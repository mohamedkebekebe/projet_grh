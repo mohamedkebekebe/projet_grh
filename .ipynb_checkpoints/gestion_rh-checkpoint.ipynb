{
 "cells": [
  {
   "cell_type": "code",
   "execution_count": 1,
   "id": "8db7218f",
   "metadata": {},
   "outputs": [
    {
     "name": "stdout",
     "output_type": "stream",
     "text": [
      "Collecting mysql-connector-pythonNote: you may need to restart the kernel to use updated packages.\n",
      "\n",
      "  Downloading mysql_connector_python-9.0.0-cp310-cp310-win_amd64.whl (14.3 MB)\n",
      "     -------------------------------------- 14.3/14.3 MB 820.2 kB/s eta 0:00:00\n",
      "Installing collected packages: mysql-connector-python\n",
      "Successfully installed mysql-connector-python-9.0.0\n"
     ]
    },
    {
     "name": "stderr",
     "output_type": "stream",
     "text": [
      "WARNING: Ignoring invalid distribution -illow (c:\\users\\mhd\\anaconda3\\lib\\site-packages)\n",
      "WARNING: Ignoring invalid distribution -illow (c:\\users\\mhd\\anaconda3\\lib\\site-packages)\n",
      "WARNING: Ignoring invalid distribution -illow (c:\\users\\mhd\\anaconda3\\lib\\site-packages)\n",
      "WARNING: Ignoring invalid distribution -illow (c:\\users\\mhd\\anaconda3\\lib\\site-packages)\n",
      "WARNING: Ignoring invalid distribution -illow (c:\\users\\mhd\\anaconda3\\lib\\site-packages)\n",
      "WARNING: Ignoring invalid distribution -illow (c:\\users\\mhd\\anaconda3\\lib\\site-packages)\n",
      "WARNING: Ignoring invalid distribution -illow (c:\\users\\mhd\\anaconda3\\lib\\site-packages)\n"
     ]
    }
   ],
   "source": [
    "pip install mysql-connector-python\n"
   ]
  },
  {
   "cell_type": "code",
   "execution_count": 3,
   "id": "6bbfda95",
   "metadata": {},
   "outputs": [
    {
     "name": "stdout",
     "output_type": "stream",
     "text": [
      "Connexion réussie !\n"
     ]
    }
   ],
   "source": [
    "import mysql.connector\n",
    "\n",
    "# Connexion à la base de données\n",
    "conn = mysql.connector.connect(\n",
    "    host=\"localhost\",         # Adresse du serveur MySQL (ou localhost pour un serveur local)\n",
    "    user=\"gestion_rh\",   # Ton nom d'utilisateur MySQL\n",
    "    password=\"Cyvjy@7224\", # Ton mot de passe MySQL\n",
    "    database=\"gestion de ressources humaines\" # Le nom de la base de données à laquelle tu veux te connecter\n",
    ")\n",
    "\n",
    "# Vérification de la connexion\n",
    "if conn.is_connected():\n",
    "    print(\"Connexion réussie !\")\n",
    "else:\n",
    "    print(\"Échec de la connexion\")\n",
    "\n",
    "# Fermer la connexion\n",
    "conn.close()\n"
   ]
  },
  {
   "cell_type": "code",
   "execution_count": 5,
   "id": "41dc1b6a",
   "metadata": {},
   "outputs": [
    {
     "name": "stdout",
     "output_type": "stream",
     "text": [
      "1 enregistrement(s) inséré(s).\n"
     ]
    }
   ],
   "source": [
    "conn = mysql.connector.connect(\n",
    "    host=\"localhost\",\n",
    "    user=\"gestion_rh\",\n",
    "    password=\"Cyvjy@7224\",\n",
    "    database=\"gestion de ressources humaines\"\n",
    ")\n",
    "cursor = conn.cursor()\n",
    "\n",
    "# Exemple d'insertion de données dans la table 'employe'\n",
    "sql = \"INSERT INTO departement (nom_departement, responsable_departement, description) VALUES (%s, %s, %s)\"\n",
    "valeurs = (\"marketing\", \"abdoulaye\", \"chargé des publicités\")\n",
    "\n",
    "cursor.execute(sql, valeurs)\n",
    "\n",
    "# Validation de l'insertion\n",
    "conn.commit()\n",
    "\n",
    "print(cursor.rowcount, \"enregistrement(s) inséré(s).\")\n",
    "\n",
    "# Fermer le curseur et la connexion\n",
    "cursor.close()\n",
    "conn.close()"
   ]
  },
  {
   "cell_type": "code",
   "execution_count": 11,
   "id": "d7618357",
   "metadata": {},
   "outputs": [
    {
     "name": "stdout",
     "output_type": "stream",
     "text": [
      "(0, 'marketing', 'abdoulaye', 'chargé des publicités')\n"
     ]
    },
    {
     "ename": "ProgrammingError",
     "evalue": "2055: Cursor is not connected",
     "output_type": "error",
     "traceback": [
      "\u001b[1;31m---------------------------------------------------------------------------\u001b[0m",
      "\u001b[1;31mProgrammingError\u001b[0m                          Traceback (most recent call last)",
      "File \u001b[1;32m~\\anaconda3\\lib\\site-packages\\mysql\\connector\\cursor_cext.py:327\u001b[0m, in \u001b[0;36mCMySQLCursor.execute\u001b[1;34m(self, operation, params, multi)\u001b[0m\n\u001b[0;32m    326\u001b[0m     \u001b[38;5;28;01mif\u001b[39;00m \u001b[38;5;129;01mnot\u001b[39;00m \u001b[38;5;28mself\u001b[39m\u001b[38;5;241m.\u001b[39m_connection \u001b[38;5;129;01mor\u001b[39;00m \u001b[38;5;28mself\u001b[39m\u001b[38;5;241m.\u001b[39m_connection\u001b[38;5;241m.\u001b[39mis_closed():\n\u001b[1;32m--> 327\u001b[0m         \u001b[38;5;28;01mraise\u001b[39;00m ProgrammingError\n\u001b[0;32m    328\u001b[0m \u001b[38;5;28;01mexcept\u001b[39;00m (ProgrammingError, \u001b[38;5;167;01mReferenceError\u001b[39;00m) \u001b[38;5;28;01mas\u001b[39;00m err:\n",
      "\u001b[1;31mProgrammingError\u001b[0m: Unknown error",
      "\nThe above exception was the direct cause of the following exception:\n",
      "\u001b[1;31mProgrammingError\u001b[0m                          Traceback (most recent call last)",
      "Cell \u001b[1;32mIn[11], line 23\u001b[0m\n\u001b[0;32m     19\u001b[0m cursor\u001b[38;5;241m.\u001b[39mclose()  \u001b[38;5;66;03m# Fermer le curseur après utilisation\u001b[39;00m\n\u001b[0;32m     22\u001b[0m \u001b[38;5;66;03m# Exécuter la requête SELECT\u001b[39;00m\n\u001b[1;32m---> 23\u001b[0m \u001b[43mcursor\u001b[49m\u001b[38;5;241;43m.\u001b[39;49m\u001b[43mexecute\u001b[49m\u001b[43m(\u001b[49m\u001b[38;5;124;43m\"\u001b[39;49m\u001b[38;5;124;43mSELECT * FROM departement\u001b[39;49m\u001b[38;5;124;43m\"\u001b[39;49m\u001b[43m)\u001b[49m\n\u001b[0;32m     25\u001b[0m \u001b[38;5;66;03m# Récupérer les résultats\u001b[39;00m\n\u001b[0;32m     26\u001b[0m resultats \u001b[38;5;241m=\u001b[39m cursor\u001b[38;5;241m.\u001b[39mfetchall()\n",
      "File \u001b[1;32m~\\anaconda3\\lib\\site-packages\\mysql\\connector\\cursor_cext.py:329\u001b[0m, in \u001b[0;36mCMySQLCursor.execute\u001b[1;34m(self, operation, params, multi)\u001b[0m\n\u001b[0;32m    327\u001b[0m         \u001b[38;5;28;01mraise\u001b[39;00m ProgrammingError\n\u001b[0;32m    328\u001b[0m \u001b[38;5;28;01mexcept\u001b[39;00m (ProgrammingError, \u001b[38;5;167;01mReferenceError\u001b[39;00m) \u001b[38;5;28;01mas\u001b[39;00m err:\n\u001b[1;32m--> 329\u001b[0m     \u001b[38;5;28;01mraise\u001b[39;00m ProgrammingError(\u001b[38;5;124m\"\u001b[39m\u001b[38;5;124mCursor is not connected\u001b[39m\u001b[38;5;124m\"\u001b[39m, \u001b[38;5;241m2055\u001b[39m) \u001b[38;5;28;01mfrom\u001b[39;00m \u001b[38;5;21;01merr\u001b[39;00m\n\u001b[0;32m    330\u001b[0m \u001b[38;5;28mself\u001b[39m\u001b[38;5;241m.\u001b[39m_connection\u001b[38;5;241m.\u001b[39mhandle_unread_result()\n\u001b[0;32m    332\u001b[0m stmt \u001b[38;5;241m=\u001b[39m \u001b[38;5;124mb\u001b[39m\u001b[38;5;124m\"\u001b[39m\u001b[38;5;124m\"\u001b[39m\n",
      "\u001b[1;31mProgrammingError\u001b[0m: 2055: Cursor is not connected"
     ]
    }
   ],
   "source": [
    "conn = mysql.connector.connect(\n",
    "    host=\"localhost\",\n",
    "    user=\"gestion_rh\",\n",
    "    password=\"Cyvjy@7224\",\n",
    "    database=\"gestion de ressources humaines\"\n",
    ")\n",
    "cursor = conn.cursor()\n",
    "\n",
    "# Exécuter la requête SELECT\n",
    "cursor.execute(\"SELECT * FROM departement\")\n",
    "\n",
    "# Récupérer les résultats\n",
    "resultats = cursor.fetchall()\n",
    "\n",
    "# Afficher les résultats\n",
    "for ligne in resultats:\n",
    "    print(ligne)\n",
    "\n",
    "cursor.close()  # Fermer le curseur après utilisation\n",
    "\n",
    "\n",
    "# Exécuter la requête SELECT\n",
    "cursor.execute(\"SELECT * FROM departement\")\n",
    "\n",
    "# Récupérer les résultats\n",
    "resultats = cursor.fetchall()\n",
    "\n",
    "# Afficher les résultats\n",
    "for ligne in resultats:\n",
    "    print(ligne)\n",
    "\n",
    "cursor.close()  # Fermer le curseur après utilisation\n"
   ]
  },
  {
   "cell_type": "code",
   "execution_count": null,
   "id": "dc6962ab",
   "metadata": {},
   "outputs": [],
   "source": []
  }
 ],
 "metadata": {
  "kernelspec": {
   "display_name": "Python 3 (ipykernel)",
   "language": "python",
   "name": "python3"
  },
  "language_info": {
   "codemirror_mode": {
    "name": "ipython",
    "version": 3
   },
   "file_extension": ".py",
   "mimetype": "text/x-python",
   "name": "python",
   "nbconvert_exporter": "python",
   "pygments_lexer": "ipython3",
   "version": "3.10.9"
  }
 },
 "nbformat": 4,
 "nbformat_minor": 5
}
