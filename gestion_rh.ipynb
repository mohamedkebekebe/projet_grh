{
 "cells": [
  {
   "cell_type": "code",
   "execution_count": 1,
   "id": "8db7218f",
   "metadata": {},
   "outputs": [
    {
     "name": "stdout",
     "output_type": "stream",
     "text": [
      "Requirement already satisfied: mysql-connector-python in c:\\users\\mhd\\anaconda3\\lib\\site-packages (9.0.0)\n",
      "Note: you may need to restart the kernel to use updated packages.\n"
     ]
    },
    {
     "name": "stderr",
     "output_type": "stream",
     "text": [
      "WARNING: Ignoring invalid distribution -illow (c:\\users\\mhd\\anaconda3\\lib\\site-packages)\n",
      "WARNING: Ignoring invalid distribution -illow (c:\\users\\mhd\\anaconda3\\lib\\site-packages)\n",
      "WARNING: Ignoring invalid distribution -illow (c:\\users\\mhd\\anaconda3\\lib\\site-packages)\n",
      "WARNING: Ignoring invalid distribution -illow (c:\\users\\mhd\\anaconda3\\lib\\site-packages)\n",
      "WARNING: Ignoring invalid distribution -illow (c:\\users\\mhd\\anaconda3\\lib\\site-packages)\n",
      "WARNING: Ignoring invalid distribution -illow (c:\\users\\mhd\\anaconda3\\lib\\site-packages)\n"
     ]
    }
   ],
   "source": [
    "pip install mysql-connector-python\n"
   ]
  },
  {
   "cell_type": "code",
   "execution_count": 3,
   "id": "6bbfda95",
   "metadata": {},
   "outputs": [
    {
     "name": "stdout",
     "output_type": "stream",
     "text": [
      "Connexion réussie !\n"
     ]
    }
   ],
   "source": [
    "import mysql.connector\n",
    "\n",
    "# Connexion à la base de données\n",
    "conn = mysql.connector.connect(\n",
    "    host=\"localhost\",         # Adresse du serveur MySQL (ou localhost pour un serveur local)\n",
    "    user=\"gestion_rh\",   # Ton nom d'utilisateur MySQL\n",
    "    password=\"Cyvjy@7224\", # Ton mot de passe MySQL\n",
    "    database=\"gestion de ressources humaines\" # Le nom de la base de données à laquelle tu veux te connecter\n",
    ")\n",
    "\n",
    "# Vérification de la connexion\n",
    "if conn.is_connected():\n",
    "    print(\"Connexion réussie !\")\n",
    "else:\n",
    "    print(\"Échec de la connexion\")\n",
    "\n",
    "# Fermer la connexion\n",
    "conn.close()\n"
   ]
  },
  {
   "cell_type": "code",
   "execution_count": 5,
   "id": "41dc1b6a",
   "metadata": {},
   "outputs": [
    {
     "name": "stdout",
     "output_type": "stream",
     "text": [
      "1 enregistrement(s) inséré(s).\n"
     ]
    }
   ],
   "source": [
    "conn = mysql.connector.connect(\n",
    "    host=\"localhost\",\n",
    "    user=\"gestion_rh\",\n",
    "    password=\"Cyvjy@7224\",\n",
    "    database=\"gestion de ressources humaines\"\n",
    ")\n",
    "cursor = conn.cursor()\n",
    "\n",
    "# Exemple d'insertion de données dans la table 'employe'\n",
    "sql = \"INSERT INTO departement (nom_departement, responsable_departement, description) VALUES (%s, %s, %s)\"\n",
    "valeurs = (\"marketing\", \"abdoulaye\", \"chargé des publicités\")\n",
    "\n",
    "cursor.execute(sql, valeurs)\n",
    "\n",
    "# Validation de l'insertion\n",
    "conn.commit()\n",
    "\n",
    "print(cursor.rowcount, \"enregistrement(s) inséré(s).\")\n",
    "\n",
    "#Fermer le curseur et la connexion\n",
    "cursor.close()\n",
    "conn.close()"
   ]
  },
  {
   "cell_type": "code",
   "execution_count": 10,
   "id": "d7618357",
   "metadata": {},
   "outputs": [
    {
     "name": "stdout",
     "output_type": "stream",
     "text": [
      "('Finance', Decimal('300000.0000'))\n",
      "('Informatique', Decimal('243750.0000'))\n",
      "('marketing', Decimal('200000.0000'))\n",
      "('RH', Decimal('183333.3333'))\n"
     ]
    },
    {
     "data": {
      "text/plain": [
       "True"
      ]
     },
     "execution_count": 10,
     "metadata": {},
     "output_type": "execute_result"
    }
   ],
   "source": [
    "conn = mysql.connector.connect(\n",
    "    host=\"localhost\",\n",
    "    user=\"gestion_rh\",\n",
    "    password=\"Cyvjy@7224\",\n",
    "    database=\"gestion de ressources humaines\"\n",
    ")\n",
    "cursor = conn.cursor()\n",
    "\n",
    "# Exécuter la requête SELECT\n",
    "#cursor.execute(\"SELECT * FROM departement\")\n",
    "cursor.execute(\"SELECT departement.nom_departement, AVG(poste.salaire_associe) AS salaire_moyen FROM employe JOIN poste ON employe.id_poste = poste.id_poste JOIN departement ON employe.id_departement = departement.id_departement GROUP BY departement.nom_departement\")\n",
    "\n",
    "\n",
    "# Récupérer les résultats\n",
    "resultats = cursor.fetchall()\n",
    "\n",
    "# Afficher les résultats\n",
    "for ligne in resultats:\n",
    "    print(ligne)\n",
    "\n",
    "cursor.close()  # Fermer le curseur après utilisation\n",
    "\n",
    "\n"
   ]
  },
  {
   "cell_type": "code",
   "execution_count": 12,
   "id": "dc6962ab",
   "metadata": {},
   "outputs": [
    {
     "name": "stdout",
     "output_type": "stream",
     "text": [
      "('Ndiaye', 'Awa', 'awa.ndiaye@example.com')\n",
      "('Sarr', 'Mariama', 'mariama.sarr@mail.com')\n",
      "('Ndiaye', 'Seynabou', 'seynabou.ndiaye@africa.com')\n",
      "('Fall', 'Mamadou', 'mamadou.fall@senegal.com')\n",
      "('Sy', 'Fatou', 'fatou.sy@example.com')\n"
     ]
    }
   ],
   "source": [
    "conn = mysql.connector.connect(\n",
    "    host=\"localhost\",\n",
    "    user=\"gestion_rh\",\n",
    "    password=\"Cyvjy@7224\",\n",
    "    database=\"gestion de ressources humaines\"\n",
    ")\n",
    "cursor = conn.cursor()\n",
    "cursor.execute(\"\"\"\n",
    "    SELECT nom, prenom, email \n",
    "    FROM employe \n",
    "    WHERE id_departement = 1\n",
    "\"\"\")\n",
    "resultats = cursor.fetchall()\n",
    "for ligne in resultats:\n",
    "    print(ligne)\n"
   ]
  }
 ],
 "metadata": {
  "kernelspec": {
   "display_name": "Python 3 (ipykernel)",
   "language": "python",
   "name": "python3"
  },
  "language_info": {
   "codemirror_mode": {
    "name": "ipython",
    "version": 3
   },
   "file_extension": ".py",
   "mimetype": "text/x-python",
   "name": "python",
   "nbconvert_exporter": "python",
   "pygments_lexer": "ipython3",
   "version": "3.10.9"
  }
 },
 "nbformat": 4,
 "nbformat_minor": 5
}
